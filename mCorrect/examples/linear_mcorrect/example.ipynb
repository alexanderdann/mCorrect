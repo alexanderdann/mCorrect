{
 "cells": [
  {
   "cell_type": "markdown",
   "id": "ccb8108e",
   "metadata": {},
   "source": [
    "# mCorrect:  multiset CORRelation Estimation and deteCTion.\n",
    "\n",
    "Given a multi-modal dataset, this toolbox estimates the following:\n",
    "* The number of correlated components across the datasets.\n",
    "* The structure of the correlated components\n",
    "\n",
    "The toolbox provides options to create custom correlation structures and generate synthetic data based on the prescribed correlation structure. Additionally, pre-existing data can also be used to analyze the latent correlation structure within the modalities.\n",
    "\n",
    "The toolbox comprises mainly of the following sub-modules:\n",
    "* `CorrelationStructureGen`: Given the desired number of correlations between the signals of the multi-dataset, this module generates the correlation structure for the signals within the dataset.\n",
    "\n",
    "* `MultisetDataGen_CorrMeans` : This module generates the signal components of the multi-dataset given the dimensions of the dataset and the correllation structure.\n",
    "\n",
    "* `Eval_Evec_test` : Consists of the algorithm that estimates the correlated components in the multi-dataset along with the correlation structure.\n",
    "\n",
    "* `visualization`: This module is used to visualize the correlation sturcture as a graph.\n",
    "\n",
    "* `metrics`: This consists of the implementaion of accuracy metrics.\n",
    "\n",
    "This tutorial provides detailed information regarding the usage and the above multiple options offered by the toolbox.\n",
    "\n",
    "\n"
   ]
  },
  {
   "cell_type": "markdown",
   "id": "5ec19ca8",
   "metadata": {},
   "source": [
    "Firstly, some imports and path settings."
   ]
  },
  {
   "cell_type": "code",
   "execution_count": 1,
   "id": "92b0cd11",
   "metadata": {},
   "outputs": [],
   "source": [
    "import os , sys\n",
    "from pathlib import Path\n",
    "sys.path.append(str(Path(os.path.abspath(os.curdir)).parent.parent.parent))\n",
    "from mCorrect.datagen.MultisetDataGen import MultisetDataGen_CorrMeans\n",
    "from mCorrect.linear_mcorrect.multiple_dataset.E_val_E_vec_tests import jointEVD\n",
    "from mCorrect.visualization.graph_visu import visualization\n",
    "from mCorrect.datagen.CorrelationStructureGen import CorrelationStructureGen\n",
    "\n",
    "\n",
    "import numpy as np\n",
    "import matplotlib.pyplot as plt\n",
    "plt.rcParams['figure.figsize'] = [12, 8]\n",
    "plt.rcParams['figure.dpi'] = 100 \n",
    "%matplotlib inline\n"
   ]
  },
  {
   "cell_type": "markdown",
   "id": "a41201a9",
   "metadata": {},
   "source": [
    "##  Case 1: Basic synthetic structure \n",
    "\n",
    "\n"
   ]
  },
  {
   "cell_type": "markdown",
   "id": "1fb3cda0",
   "metadata": {},
   "source": [
    "`CorrelationStructureGen` is invoked with default parameters. \n",
    "In this basic example, 4 datasets with 4 signals each is chosen. The user has to provide the correlation structure in the form of a list of percentage values.\n",
    "In the below example, the `corr_input=[100,75]` implies that one signal is correlated across all datasets(100%) and one other signal is correlated across 75% of the datasets.\n",
    "Upon calling the `get_structure()` function, it requests for a user input asking whether the generated structure is suitable or not. If `n` is entered it generates a new structure based on the original `corr_inut` information.\n",
    "This function returns the generated correlation structure in the form of matrices.\n",
    "\n",
    "The `MultisetDataGen_CorrMeans` object is called with the parameters `p_matrix` and the `R_matrix` returned by the `get_structure()`. The parameter `M` sets the number of parameters in each dataset.  Calling the `generate()` function returns the multi-dataset with the required correlation.\n",
    "\n",
    "`jointEVD`: Call this object by passing the dataset and the number of bootstrap iterations to be performed. \n",
    "\n"
   ]
  },
  {
   "cell_type": "code",
   "execution_count": null,
   "id": "0f9df93a",
   "metadata": {},
   "outputs": [],
   "source": [
    "corr_obj = CorrelationStructureGen(n_sets=4, signum=5, tot_corr=[100,75], percentage=True)\n",
    "corr_truth, p_matrix, sigma_signals, R_matrix = corr_obj.get_structure()\n",
    "\n",
    "datagen = MultisetDataGen_CorrMeans(n_sets=4, signum=5,p=p_matrix, R=R_matrix, M=300)\n",
    "\n",
    "X, _ = datagen.generate()\n",
    "corr_test = jointEVD(X, B=1000)\n",
    "corr_estimate, d_cap, u_struc = corr_test.find_structure()\n",
    "plt.ion()\n",
    "viz = visualization(graph_matrix=corr_truth, num_dataset=4, label_edge=False)\n",
    "viz.visualize(\"True Structure\")\n",
    "plt.ioff()\n",
    "viz_op = visualization(graph_matrix=corr_estimate, label_edge=False)\n",
    "viz_op.visualize(\"Estimated_structure\")\n"
   ]
  },
  {
   "cell_type": "markdown",
   "id": "ee1ea079",
   "metadata": {},
   "source": [
    "## Case 2 : Configure additional correlation structue parameters\n",
    "This examples illustrates the usage of additional parameters with respect to the correlation structure generation.\n",
    "The required correlation structure can be specified numerically with the required number of correlated subcomponents by setting the parameter`percentage=False`. Now the `tot_corr` can be specified numerically based on how many datasets a given signal is correlated.\n",
    "The parameter `corr_means` configures the mean value of correlation between the correllated signals.\n",
    "The parameter `corr_std` configures the standard deviation in the correlation.\n",
    "The parameter `sigmad` sets the variance of the correlated components.\n",
    "The parameter `sigmaf` sets the variance of the independent components."
   ]
  },
  {
   "cell_type": "code",
   "execution_count": null,
   "id": "c2e42a32",
   "metadata": {},
   "outputs": [],
   "source": [
    "corr_obj = CorrelationStructureGen(n_sets=4, signum=5, tot_corr=[4,3], percentage=False,\n",
    "                                   corr_means=0.8, corr_std=0.01, sigmad=10, sigmaf=3)\n",
    "corr_truth, p_matrix, sigma_signals, R_matrix = corr_obj.get_structure()\n",
    "datagen = MultisetDataGen_CorrMeans(n_sets=4, signum=5, p=p_matrix, R=R_matrix, M=300)\n",
    "\n",
    "X, _ = datagen.generate()\n",
    "corr_test = jointEVD(X, B=1000)\n",
    "corr_estimate, d_cap, u_struc = corr_test.find_structure()\n",
    "plt.ion()\n",
    "viz = visualization(graph_matrix=corr_truth, num_dataset=4, label_edge=False)\n",
    "viz.visualize(\"True Structure\")\n",
    "plt.ioff()\n",
    "viz_op = visualization(graph_matrix=corr_estimate, label_edge=False)\n",
    "viz_op.visualize(\"Estimated_structure\")\n"
   ]
  },
  {
   "cell_type": "code",
   "execution_count": null,
   "id": "1d21e33d-d70d-43b2-a4b9-716176ab2c3c",
   "metadata": {},
   "outputs": [],
   "source": []
  },
  {
   "cell_type": "markdown",
   "id": "4ae085b0-4b81-412a-a97e-28d3a25e0f1b",
   "metadata": {},
   "source": [
    "## Case 3: Configure additional data generation parameters\n",
    "For the `MultisetDataGen_CorrMeans` additional parameters can be configured.\n",
    "`tot_dims` sets the dimensions in each of the datasets.\n",
    "`mixing` configures the type of the mixing matrix in data generation.\n",
    "`snr` configures the signal to noise ration in the data generation.\n"
   ]
  },
  {
   "cell_type": "code",
   "execution_count": 3,
   "id": "13e23e9b-9dbb-4ce7-94d6-c744ac443f0d",
   "metadata": {},
   "outputs": [
    {
     "data": {
      "image/png": "[encoded data removed]",
      "text/plain": [
       "<Figure size 432x288 with 6 Axes>"
      ]
     },
     "metadata": {
      "needs_background": "light"
     },
     "output_type": "display_data"
    },
    {
     "name": "stdin",
     "output_type": "stream",
     "text": [
      "Continue with generated correlation structure?: y/n y\n"
     ]
    },
    {
     "data": {
      "image/png": "[encoded data removed]",
      "text/plain": [
       "<Figure size 432x288 with 6 Axes>"
      ]
     },
     "metadata": {},
     "output_type": "display_data"
    },
    {
     "data": {
      "image/png": "[encoded data removed]",
      "text/plain": [
       "<Figure size 432x288 with 6 Axes>"
      ]
     },
     "metadata": {},
     "output_type": "display_data"
    }
   ],
   "source": [
    "corr_obj = CorrelationStructureGen(n_sets=4, signum=5, tot_corr=[4,3], percentage=False,\n",
    "                                   corr_means=0.8,tot_dims=6, corr_std=0.01, sigmad=10, sigmaf=3)\n",
    "corr_truth, p_matrix, sigma_signals, R_matrix = corr_obj.get_structure()\n",
    "datagen = MultisetDataGen_CorrMeans(n_sets=4, signum=5, tot_dims=6, mixing='orth',\n",
    "                                    snr=10,  p=p_matrix, R=R_matrix, M=300)\n",
    "\n",
    "X, _ = datagen.generate()\n",
    "corr_test = jointEVD(X, B=1000)\n",
    "corr_estimate, d_cap, u_struc = corr_test.find_structure()\n",
    "plt.ion()\n",
    "viz = visualization(graph_matrix=corr_truth, num_dataset=4, label_edge=False)\n",
    "viz.visualize(\"True Structure\")\n",
    "plt.ioff()\n",
    "viz_op = visualization(graph_matrix=corr_estimate, label_edge=False)\n",
    "viz_op.visualize(\"Estimated_structure\")\n"
   ]
  },
  {
   "cell_type": "markdown",
   "id": "83fa92c2",
   "metadata": {},
   "source": [
    "## Case 4 Test with multiple snr values:\n",
    "\n",
    "The below example demonstrates how additonal advanced parameters can be configured for a more detailed analysis:\n",
    "\n",
    "Additionally, an analysis can be performed on multiple iterations for different SNR values, thus tracking the performance at different SNR's. This can be set as follows:\n",
    "- `SNR_vec` accepts a list of SNR values for which the test has to be performed.\n",
    "- `num_iter` sets the number of times the test is run for each SNR value. Performance for a particular SNR is averaged over `num_iter`.\n",
    "\n",
    "The performance for different SNR values is measured using the Precision and Recall metric and plotted on a graph. The performance improves for higher SNR as expected."
   ]
  },
  {
   "cell_type": "code",
   "execution_count": 9,
   "id": "cb7b5623",
   "metadata": {},
   "outputs": [
    {
     "data": {
      "image/png": "[encoded data removed]",
      "text/plain": [
       "<Figure size 432x288 with 6 Axes>"
      ]
     },
     "metadata": {
      "needs_background": "light"
     },
     "output_type": "display_data"
    },
    {
     "name": "stdin",
     "output_type": "stream",
     "text": [
      "Continue with generated correlation structure?: y/n y\n"
     ]
    },
    {
     "name": "stdout",
     "output_type": "stream",
     "text": [
      "SNR val =  -25\n",
      "iteration =  0\n",
      "iteration =  1\n",
      "iteration =  2\n",
      "SNR val =  10\n",
      "iteration =  0\n",
      "iteration =  1\n",
      "iteration =  2\n"
     ]
    },
    {
     "data": {
      "image/png": "[encoded data removed]",
      "text/plain": [
       "<Figure size 432x288 with 2 Axes>"
      ]
     },
     "metadata": {
      "needs_background": "light"
     },
     "output_type": "display_data"
    }
   ],
   "source": [
    "from mCorrect.metrics.metrics import Metrics\n",
    "\n",
    "snr_vec=[-5, 10, 15, 20]\n",
    "num_iter=3\n",
    "\n",
    "prec_vec = []\n",
    "rec_vec = []\n",
    "corr_obj = CorrelationStructureGen(n_sets=4, signum=5, tot_corr=[4,3], percentage=False,\n",
    "                                   corr_means=0.8,tot_dims=6, corr_std=0.01, sigmad=10, sigmaf=3)\n",
    "corr_truth, p_matrix, sigma_signals, R_matrix = corr_obj.get_structure()\n",
    "for snr in snr_vec:\n",
    "    print(\"SNR val = \", snr)\n",
    "    precision = 0\n",
    "    recall = 0\n",
    "    for i in range(num_iter):\n",
    "        print(\"iteration = \", i)\n",
    "        \n",
    "        datagen = MultisetDataGen_CorrMeans(n_sets=4, signum=5, tot_dims=6, mixing='orth',\n",
    "                                    snr=10,  p=p_matrix, R=R_matrix, M=300)\n",
    "        corr_test = jointEVD(X, B=1000)\n",
    "        corr_estimate, d_cap, u_struc = corr_test.find_structure()\n",
    "        perf = Metrics(corr_truth, corr_estimate)\n",
    "        pr, re = perf.PrecisionRecall()\n",
    "        precision += pr\n",
    "        recall += re\n",
    "    \n",
    "    prec_vec.append(precision / num_iter)\n",
    "    rec_vec.append(recall / num_iter)\n",
    "\n",
    "plt.ion()\n",
    "if len(snr_vec) > 1:\n",
    "    fig, (ax1, ax2) = plt.subplots(2, 1)\n",
    "    fig.suptitle('Precion recall plots for various SNR')\n",
    "    ax1.plot(snr_vec, prec_vec, 'o-')\n",
    "    ax1.set_ylabel('Precision')\n",
    "    ax1.set_xlabel('SNR')\n",
    "\n",
    "    ax2.plot(snr_vec, rec_vec, 'o-')\n",
    "    ax2.set_ylabel('Recall')\n",
    "    ax2.set_xlabel('SNR')\n",
    "    plt.show()\n",
    "       \n",
    "    \n",
    "    \n",
    "    \n",
    "    \n",
    "    \n"
   ]
  }
 ],
 "metadata": {
  "kernelspec": {
   "display_name": "Python 3",
   "language": "python",
   "name": "python3"
  },
  "language_info": {
   "codemirror_mode": {
    "name": "ipython",
    "version": 3
   },
   "file_extension": ".py",
   "mimetype": "text/x-python",
   "name": "python",
   "nbconvert_exporter": "python",
   "pygments_lexer": "ipython3",
   "version": "3.7.11"
  },
  "varInspector": {
   "cols": {
    "lenName": 16,
    "lenType": 16,
    "lenVar": 40
   },
   "kernels_config": {
    "python": {
     "delete_cmd_postfix": "",
     "delete_cmd_prefix": "del ",
     "library": "var_list.py",
     "varRefreshCmd": "print(var_dic_list())"
    },
    "r": {
     "delete_cmd_postfix": ") ",
     "delete_cmd_prefix": "rm(",
     "library": "var_list.r",
     "varRefreshCmd": "cat(var_dic_list()) "
    }
   },
   "types_to_exclude": [
    "module",
    "function",
    "builtin_function_or_method",
    "instance",
    "_Feature"
   ],
   "window_display": false
  }
 },
 "nbformat": 4,
 "nbformat_minor": 5
}
